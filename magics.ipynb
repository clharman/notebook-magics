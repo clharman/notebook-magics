{
 "cells": [
  {
   "cell_type": "code",
   "execution_count": 3,
   "metadata": {
    "ExecuteTime": {
     "end_time": "2017-06-23T21:25:57.070157Z",
     "start_time": "2017-06-23T21:25:57.041151Z"
    },
    "collapsed": true
   },
   "outputs": [],
   "source": [
    "import os\n",
    "\n",
    "from IPython.core import magic_arguments\n",
    "from IPython.core.getipython import get_ipython\n",
    "from IPython.core.magic import (Magics, magics_class,  cell_magic)          "
   ]
  },
  {
   "cell_type": "code",
   "execution_count": 10,
   "metadata": {
    "ExecuteTime": {
     "end_time": "2017-06-24T02:03:05.652824Z",
     "start_time": "2017-06-24T02:03:05.622087Z"
    },
    "collapsed": true
   },
   "outputs": [],
   "source": [
    "@magics_class\n",
    "class IPhoneNotification(Magics):\n",
    "    \n",
    "    CMD = \"\"\"osascript<<END\n",
    "\n",
    "    tell application \"Messages\"\n",
    "\n",
    "    send \"{body}\" to buddy \"{phone}\" of (service 1 whose service type is iMessage)\n",
    "\n",
    "    end tell\n",
    "\n",
    "    END\"\"\"\n",
    "    \n",
    "    @magic_arguments.magic_arguments()\n",
    "    @magic_arguments.argument('-p', '--phone', type=str,\n",
    "        help=\"\"\"Phone number where to send text message\"\"\")\n",
    "    @magic_arguments.argument('-m', '--message', type=str, default=\"job complete\",\n",
    "        help=\"\"\"text message to send\"\"\")\n",
    "    \n",
    "    @cell_magic\n",
    "    def phone_notification(self, line, cell):\n",
    "        args = magic_arguments.parse_argstring(self.phone_notification, line)\n",
    "        \n",
    "        try:\n",
    "            x = self.shell.run_cell(cell)           \n",
    "        finally:\n",
    "            try:\n",
    "                # remove quotes\n",
    "                message = args.message.replace('\"', \"\")\n",
    "                \n",
    "                # if failed then try to include error message\n",
    "                if not x.success:\n",
    "                    print x\n",
    "                    print dir(x)\n",
    "                    body = \"[Failed] {} \\n Error: {}\".format(message, x.error_in_exec or \"Unknown\")\n",
    "                # if successful \n",
    "                else:\n",
    "                    body = \"[Success] {}\".format(message)\n",
    "                \n",
    "                # use apple script to send message\n",
    "                cmd = self.CMD.format(body=body, phone=args.phone)          \n",
    "                os.system(cmd)\n",
    "            except Exception, ex:\n",
    "                print cmd\n",
    "                raise\n",
    "                \n",
    "get_ipython().register_magics(IPhoneNotification)      "
   ]
  },
  {
   "cell_type": "code",
   "execution_count": null,
   "metadata": {
    "collapsed": true
   },
   "outputs": [],
   "source": []
  }
 ],
 "metadata": {
  "kernelspec": {
   "display_name": "Python 2",
   "language": "python",
   "name": "python2"
  },
  "language_info": {
   "codemirror_mode": {
    "name": "ipython",
    "version": 2
   },
   "file_extension": ".py",
   "mimetype": "text/x-python",
   "name": "python",
   "nbconvert_exporter": "python",
   "pygments_lexer": "ipython2",
   "version": "2.7.13"
  },
  "toc": {
   "navigate_menu": false,
   "number_sections": true,
   "sideBar": true,
   "threshold": 6,
   "toc_cell": false,
   "toc_section_display": "block",
   "toc_window_display": true
  }
 },
 "nbformat": 4,
 "nbformat_minor": 2
}
